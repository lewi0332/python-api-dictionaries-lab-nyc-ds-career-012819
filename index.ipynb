{
 "cells": [
  {
   "cell_type": "markdown",
   "metadata": {},
   "source": [
    "# API Exercises"
   ]
  },
  {
   "cell_type": "markdown",
   "metadata": {},
   "source": [
    "Here are two exercises that involve working with APIs and dictionaries.\n",
    "\n",
    "One is using the Open Brewery API found at https://www.openbrewerydb.org/, and the other is using the API for UK Police Data, found at https://data.police.uk/docs/.\n",
    "\n",
    "You can complete them in either order!\n",
    "\n",
    "Remember that you can create new cells with esc + a or b"
   ]
  },
  {
   "cell_type": "markdown",
   "metadata": {},
   "source": [
    "## Breweries"
   ]
  },
  {
   "cell_type": "markdown",
   "metadata": {},
   "source": [
    "### Q1: Load the first page of results with 50 results per page"
   ]
  },
  {
   "cell_type": "code",
   "execution_count": 1,
   "metadata": {},
   "outputs": [],
   "source": [
    "import requests\n",
    "url = 'https://api.openbrewerydb.org/breweries'\n",
    "\n",
    "search_parameters = {'page':1, 'per_page':50}\n",
    "\n",
    "resp1 = requests.get('https://api.openbrewerydb.org/breweries', params = search_parameters)"
   ]
  },
  {
   "cell_type": "code",
   "execution_count": 2,
   "metadata": {},
   "outputs": [
    {
     "name": "stdout",
     "output_type": "stream",
     "text": [
      "<class 'requests.models.Response'>\n",
      "https://api.openbrewerydb.org/breweries?page=1&per_page=50\n",
      "<Response [200]>\n"
     ]
    }
   ],
   "source": [
    "print(type(resp1))\n",
    "print(resp1.url)\n",
    "print(resp1)\n"
   ]
  },
  {
   "cell_type": "markdown",
   "metadata": {},
   "source": [
    "### Q2: This is only the first 50 results.  Get the next 50 and put them together."
   ]
  },
  {
   "cell_type": "code",
   "execution_count": 3,
   "metadata": {},
   "outputs": [],
   "source": [
    "search_parameters = {'page':2, 'per_page':50}\n",
    "\n",
    "resp2 = requests.get('https://api.openbrewerydb.org/breweries', params = search_parameters)\n"
   ]
  },
  {
   "cell_type": "code",
   "execution_count": 4,
   "metadata": {},
   "outputs": [
    {
     "name": "stdout",
     "output_type": "stream",
     "text": [
      "<class 'requests.models.Response'>\n",
      "https://api.openbrewerydb.org/breweries?page=2&per_page=50\n",
      "200\n"
     ]
    }
   ],
   "source": [
    "print(type(resp2))\n",
    "print(resp2.url)\n",
    "print(resp2.status_code)"
   ]
  },
  {
   "cell_type": "code",
   "execution_count": 5,
   "metadata": {},
   "outputs": [],
   "source": [
    "concat_list = resp1.json()"
   ]
  },
  {
   "cell_type": "code",
   "execution_count": null,
   "metadata": {},
   "outputs": [],
   "source": []
  },
  {
   "cell_type": "code",
   "execution_count": 6,
   "metadata": {},
   "outputs": [],
   "source": [
    "for i in range(len(resp2.json())):\n",
    "    concat_list.append(resp2.json()[i])\n",
    "    "
   ]
  },
  {
   "cell_type": "code",
   "execution_count": 7,
   "metadata": {},
   "outputs": [
    {
     "name": "stdout",
     "output_type": "stream",
     "text": [
      "100\n"
     ]
    }
   ],
   "source": [
    "print(len(concat_list))"
   ]
  },
  {
   "cell_type": "markdown",
   "metadata": {},
   "source": [
    "### Q3: How many of these 100 breweries in are in Alaska?"
   ]
  },
  {
   "cell_type": "code",
   "execution_count": 8,
   "metadata": {},
   "outputs": [],
   "source": [
    "breweries_in_alaska = 0\n",
    "for i in range(len(concat_list)):\n",
    "    if concat_list[i]['state'] == 'Alaska':\n",
    "        breweries_in_alaska += 1\n",
    "               \n"
   ]
  },
  {
   "cell_type": "code",
   "execution_count": 9,
   "metadata": {},
   "outputs": [
    {
     "name": "stdout",
     "output_type": "stream",
     "text": [
      "3\n"
     ]
    }
   ],
   "source": [
    "print(breweries_in_alaska)"
   ]
  },
  {
   "cell_type": "code",
   "execution_count": 10,
   "metadata": {},
   "outputs": [
    {
     "data": {
      "text/plain": [
       "dict_keys(['id', 'name', 'brewery_type', 'street', 'city', 'state', 'postal_code', 'country', 'longitude', 'latitude', 'phone', 'website_url', 'updated_at', 'tag_list'])"
      ]
     },
     "execution_count": 10,
     "metadata": {},
     "output_type": "execute_result"
    }
   ],
   "source": [
    "concat_list[1].keys()"
   ]
  },
  {
   "cell_type": "markdown",
   "metadata": {},
   "source": [
    "### Q4: Of these 100 breweries, what are the different unique brewery types?"
   ]
  },
  {
   "cell_type": "code",
   "execution_count": 11,
   "metadata": {},
   "outputs": [
    {
     "name": "stdout",
     "output_type": "stream",
     "text": [
      "{'micro', 'contract', 'brewpub', 'planning', 'regional', 'proprietor'}\n"
     ]
    }
   ],
   "source": [
    "temp = [concat_list[i]['brewery_type'] for i in range(len(concat_list))]\n",
    "unique_brewery_type = set(temp)\n",
    "print(unique_brewery_type)"
   ]
  },
  {
   "cell_type": "code",
   "execution_count": null,
   "metadata": {},
   "outputs": [],
   "source": []
  },
  {
   "cell_type": "markdown",
   "metadata": {},
   "source": [
    "### Q5: What is the cloest brewery to \"Devil's Potion Brewing Company LLC\" ?\n",
    "* Hint 1: Use Euclidian distance w/ longitude and latitude (assume longitude and latitude are a Carteisan coordinate system)\n",
    "* Hint 2: You'll have to ignore the entries with \"none\" for latitude or longitude"
   ]
  },
  {
   "cell_type": "code",
   "execution_count": 12,
   "metadata": {},
   "outputs": [
    {
     "name": "stdout",
     "output_type": "stream",
     "text": [
      "The closest brewery to Devil's Potion Brewing Company LLC is only 7km away!\n",
      "\n",
      "(None, {'id': 924, 'name': 'Port Brewing Co / The Lost Abbey', 'brewery_type': 'micro', 'street': '155 Mata Way Ste 104', 'city': 'San Marcos', 'state': 'California', 'postal_code': '92069-2983', 'country': 'United States', 'longitude': '-117.149141', 'latitude': '33.141537', 'phone': '8009186816', 'website_url': 'http://www.portbrewing.com', 'updated_at': '2018-08-24T00:01:07.397Z', 'tag_list': []})\n"
     ]
    }
   ],
   "source": [
    "import math    \n",
    "\n",
    "def set_lat_lon(brewery):\n",
    "    '''searches the concat_list to find an entry with a name matching the arg and returns lat and lon in a list'''\n",
    "    temp2 = list(filter(lambda brew: concat_list[brew]['name'] == brewery, range(len(concat_list))))\n",
    "    if concat_list[temp2[0]]['latitude']:\n",
    "        start_brewery_lat = concat_list[temp2[0]]['latitude']\n",
    "        start_brewer_lon = concat_list[temp2[0]]['longitude']\n",
    "        origin = [float(start_brewery_lat), float(start_brewer_lon)]\n",
    "    return origin\n",
    "                                  \n",
    "def distance(origin, destination):\n",
    "    ''' determines the spherical distance between two sets of coordinates'''\n",
    "    lat1, lon1 = origin\n",
    "    lat2, lon2 = destination\n",
    "    radius = 6371 # km\n",
    "\n",
    "    dlat = math.radians(lat2-lat1)\n",
    "    dlon = math.radians(lon2-lon1)\n",
    "    a = math.sin(dlat/2) * math.sin(dlat/2) + math.cos(math.radians(lat1)) \\\n",
    "        * math.cos(math.radians(lat2)) * math.sin(dlon/2) * math.sin(dlon/2)\n",
    "    c = 2 * math.atan2(math.sqrt(a), math.sqrt(1-a))\n",
    "    d = radius * c\n",
    "\n",
    "    return d\n",
    "                   \n",
    "def closest_bewery_to(start_brewery):\n",
    "    '''takes a starting brewey and checks its distance from each brewery in a list\\\n",
    "    returns the distance of the closest brwery and all the information of that brewery'''\n",
    "    origin = set_lat_lon(start_brewery)\n",
    "    temp = []\n",
    "    shortest_distance = 10000000\n",
    "    for i in range(len(concat_list)):\n",
    "        if concat_list[i]['name'] == start_brewery:\n",
    "            pass\n",
    "        elif concat_list[i]['latitude']:\n",
    "            dest_brewery_lat = concat_list[i]['latitude']\n",
    "            dest_brewery_lon = concat_list[i]['longitude']\n",
    "            destination = [float(dest_brewery_lat), float(dest_brewery_lon)]\n",
    "            current_distance = distance(origin, destination)\n",
    "        else:\n",
    "            pass\n",
    "        \n",
    "        if current_distance < shortest_distance:\n",
    "            temp = concat_list[i]\n",
    "            shortest_distance = current_distance\n",
    "    return print('The closest brewery to {} is only {}km away!\\n'.format(start_brewery, round(shortest_distance)) ), temp\n",
    "                   \n",
    "                   \n",
    "    \n",
    "print(closest_bewery_to(\"Devil's Potion Brewing Company LLC\"))"
   ]
  },
  {
   "cell_type": "code",
   "execution_count": null,
   "metadata": {},
   "outputs": [],
   "source": []
  },
  {
   "cell_type": "code",
   "execution_count": null,
   "metadata": {},
   "outputs": [],
   "source": []
  },
  {
   "cell_type": "markdown",
   "metadata": {},
   "source": [
    "### Q6: Write a function to find the closest brewery to any other given brewery"
   ]
  },
  {
   "cell_type": "code",
   "execution_count": 13,
   "metadata": {},
   "outputs": [],
   "source": [
    "def bewery_a_to_b(start_brewery):\n",
    "    origin = set_lat_lon(start_brewery)\n",
    "    temp = []\n",
    "    shortest_distance = 10000000\n",
    "    for i in range(len(concat_list)):\n",
    "        if concat_list[i]['name'] == start_brewery:\n",
    "            pass\n",
    "        elif concat_list[i]['latitude']:\n",
    "            dest_brewery_lat = concat_list[i]['latitude']\n",
    "            dest_brewery_lon = concat_list[i]['longitude']\n",
    "            destination = [float(dest_brewery_lat), float(dest_brewery_lon)]\n",
    "            current_distance = distance(origin, destination)\n",
    "        else:\n",
    "            pass\n",
    "        \n",
    "        if current_distance < shortest_distance:\n",
    "            temp = concat_list[i]\n",
    "            shortest_distance = current_distance\n",
    "    return print('The closest brewery to {} is only {}km away!\\n'.format(start_brewery, round(shortest_distance)) ), temp"
   ]
  },
  {
   "cell_type": "markdown",
   "metadata": {},
   "source": [
    "### Q7: How would you get the first 10 pages from this API and put them all together using a for loop?"
   ]
  },
  {
   "cell_type": "code",
   "execution_count": 14,
   "metadata": {},
   "outputs": [],
   "source": [
    "import requests\n",
    "import time\n",
    "url = 'https://api.openbrewerydb.org/breweries'\n",
    "\n",
    "first_500_breweries = []\n",
    "for i in range(0,9):\n",
    "    page = 1\n",
    "    search_parameters = {'page':page, 'per_page':50}\n",
    "    temp_resp = requests.get('https://api.openbrewerydb.org/breweries', params = search_parameters)\n",
    "    for i in range(len(temp_resp.json())):\n",
    "        first_500_breweries.append(temp_resp.json()[i])\n",
    "    page +=1\n",
    "    time.sleep(5)"
   ]
  },
  {
   "cell_type": "code",
   "execution_count": 16,
   "metadata": {},
   "outputs": [
    {
     "name": "stdout",
     "output_type": "stream",
     "text": [
      "450\n"
     ]
    },
    {
     "data": {
      "text/plain": [
       "list"
      ]
     },
     "execution_count": 16,
     "metadata": {},
     "output_type": "execute_result"
    }
   ],
   "source": [
    "print(len(first_500_breweries))\n",
    "type(first_500_breweries)"
   ]
  },
  {
   "cell_type": "markdown",
   "metadata": {},
   "source": [
    "# Crime in the UK"
   ]
  },
  {
   "cell_type": "markdown",
   "metadata": {},
   "source": [
    "### We will be analyzing different crimes reported in the UK as provided by https://data.police.uk/docs/"
   ]
  },
  {
   "cell_type": "markdown",
   "metadata": {},
   "source": [
    "# Exploratory analysis\n",
    "##### 1. How many total crimes were there at latitude : 52.63902 and -1.131321 on November of 2017.\n",
    "Use the street level crimes data, the documentation for the API can be found at https://data.police.uk/docs/method/crime-street/"
   ]
  },
  {
   "cell_type": "code",
   "execution_count": 41,
   "metadata": {},
   "outputs": [],
   "source": [
    "search = {'lat':52.63902, 'lng':-1.131321, 'date':'2017-11'}\n",
    "\n",
    "crime = requests.get('https://data.police.uk/api/crimes-street/all-crime', params = search)\n",
    "\n"
   ]
  },
  {
   "cell_type": "code",
   "execution_count": 42,
   "metadata": {},
   "outputs": [
    {
     "data": {
      "text/plain": [
       "200"
      ]
     },
     "execution_count": 42,
     "metadata": {},
     "output_type": "execute_result"
    }
   ],
   "source": [
    "crime.status_code"
   ]
  },
  {
   "cell_type": "code",
   "execution_count": 43,
   "metadata": {},
   "outputs": [
    {
     "name": "stdout",
     "output_type": "stream",
     "text": [
      "1334\n"
     ]
    }
   ],
   "source": [
    "print(len(crime.json()))"
   ]
  },
  {
   "cell_type": "code",
   "execution_count": 45,
   "metadata": {},
   "outputs": [
    {
     "name": "stdout",
     "output_type": "stream",
     "text": [
      "anti-social-behaviour\n"
     ]
    }
   ],
   "source": [
    "print(crime.json()[1]['category'])"
   ]
  },
  {
   "cell_type": "code",
   "execution_count": 46,
   "metadata": {},
   "outputs": [],
   "source": [
    "testing = [crime.json()[i]['category'] for i in range(len(crime.json()))]"
   ]
  },
  {
   "cell_type": "code",
   "execution_count": 47,
   "metadata": {},
   "outputs": [],
   "source": [
    "d = {}\n",
    "for category in testing:\n",
    "    d[category] = d.get(category, 0) + 1"
   ]
  },
  {
   "cell_type": "code",
   "execution_count": 48,
   "metadata": {},
   "outputs": [
    {
     "name": "stdout",
     "output_type": "stream",
     "text": [
      "{'anti-social-behaviour': 246, 'bicycle-theft': 81, 'burglary': 55, 'criminal-damage-arson': 66, 'drugs': 29, 'other-theft': 154, 'possession-of-weapons': 13, 'public-order': 73, 'robbery': 11, 'shoplifting': 176, 'theft-from-the-person': 41, 'vehicle-crime': 69, 'violent-crime': 301, 'other-crime': 19}\n"
     ]
    }
   ],
   "source": [
    "print(d)"
   ]
  },
  {
   "cell_type": "markdown",
   "metadata": {},
   "source": [
    "##### 2. We've queried the API once, but it could get annoying to retype the url over and over again, create a function `make_api_request` that enables you to query the API.\n",
    "\n",
    "\n",
    " The parameters for the function should be:\n",
    "* lat (float) : latitude\n",
    "* lng (float) : longitude\n",
    "* date (string): Date in the format YYYY-MM\n",
    "    * default value = `None`\n",
    "    \n",
    "And it should return a json object of \n",
    "\n",
    "for more information on default values check out http://blog.thedigitalcatonline.com/blog/2015/02/11/default-arguments-in-python/"
   ]
  },
  {
   "cell_type": "code",
   "execution_count": 29,
   "metadata": {},
   "outputs": [],
   "source": [
    "def make_api_request(lat, lng, date = None):\n",
    "    search = {'lat':float(lat), 'lng':float(lng), 'date':str(date)}\n",
    "    r = requests.get('https://data.police.uk/api/crimes-street/all-crime', params = search)\n",
    "    return r\n"
   ]
  },
  {
   "cell_type": "markdown",
   "metadata": {},
   "source": [
    "##### 3. Write a function `categories_of_crime` that will determine the count of each type of crime for a given latitude and longitude. This is labelled as 'category' in the records. Your function should call the `make_api_request` function you created.\n",
    "\n",
    "The parameters for the function should be:\n",
    "\n",
    "* lat (float) : latitude\n",
    "* lng (float) : longitude\n",
    "* date (str) default = None\n",
    "\n",
    "The function should return:\n",
    "* a dictionary with the count of each type of crime\n",
    "\n",
    "\n",
    "\n",
    "Once you've created the function, try it with these locations\n",
    "* lat, lng of 51.5017861,-0.1432319   (Buckingham Palace)\n",
    "* lat, lng of 53.480161, -2.245163     (Manchester)"
   ]
  },
  {
   "cell_type": "code",
   "execution_count": 40,
   "metadata": {},
   "outputs": [],
   "source": [
    "def categories_of_crime (lat, lng, date = None):\n",
    "    temp={}\n",
    "    r = make_api_request(lat, lng, date)\n",
    "    all_categories = [r.json()[i]['category'] for i in range(len(r.json()))]\n",
    "    for category in all_categories:\n",
    "        temp[category] = d.get(category, 0) + 1\n",
    "    return temp\n",
    "    \n",
    "categories_of_crime(51.5017861,-0.1432319)"
   ]
  },
  {
   "cell_type": "markdown",
   "metadata": {},
   "source": [
    "**Bonus**: \n",
    "* Write a function that determines the difference between Buckingham Palace and Manchester in terms of the number of crimes in each category.\n",
    "    * In which category is there the largest absolute difference between the category of crime?\n",
    "* Create a histogram depiction of the categories of crime"
   ]
  },
  {
   "cell_type": "code",
   "execution_count": null,
   "metadata": {},
   "outputs": [],
   "source": [
    "\n"
   ]
  },
  {
   "cell_type": "markdown",
   "metadata": {},
   "source": [
    "##### 4. Create a function `find_outcome_statuses` that will determine outcome statuses for a given latitude and longitude and date (optional)?\n",
    "Investigate the data to determine where the outcome statuses are located.\n",
    "\n",
    "**NOTE**: You'll notice that some of these crimes do not have crime outcomes. Make these into the category of \"Not Resolved.\"\n",
    "\n",
    "**NOTE 2**: These might take a long time to execute if you do not specify a month\n",
    "\n",
    "**Bonus**: What is the ratio of crimes investigated to those not investigated? Is it higher near London or Manchester?"
   ]
  },
  {
   "cell_type": "code",
   "execution_count": null,
   "metadata": {},
   "outputs": [],
   "source": [
    "\n"
   ]
  },
  {
   "cell_type": "markdown",
   "metadata": {},
   "source": [
    "##### 5. Write a function `month_highest_crimes` that will return the month that had the highest number of crimes for a latitude, longitude and a year.\n",
    "\n",
    "Inputs\n",
    "* lat (float) : latitude\n",
    "* lng (float) : longitude\n",
    "* year (str) : in the format YYYY\n",
    "\n",
    "Output\n",
    "* month with highest crime (int)\n",
    "\n",
    "**Bonus** Make a graph of how the number of crimes changed over time for a year. This will likely require a new function. Is seasonality a factor? Do the type of crimes change over time?"
   ]
  },
  {
   "cell_type": "code",
   "execution_count": null,
   "metadata": {},
   "outputs": [],
   "source": [
    "\n"
   ]
  },
  {
   "cell_type": "markdown",
   "metadata": {},
   "source": [
    "### Bonus Open Ended Questions\n",
    "\n",
    "1. Take a look at the https://data.police.uk/docs/method/stops-street/ API. Is there a correlation between gender and being stopped and searched? How about race and being stopped and searched?"
   ]
  },
  {
   "cell_type": "code",
   "execution_count": null,
   "metadata": {},
   "outputs": [],
   "source": [
    "\n"
   ]
  }
 ],
 "metadata": {
  "kernelspec": {
   "display_name": "Python 3",
   "language": "python",
   "name": "python3"
  },
  "language_info": {
   "codemirror_mode": {
    "name": "ipython",
    "version": 3
   },
   "file_extension": ".py",
   "mimetype": "text/x-python",
   "name": "python",
   "nbconvert_exporter": "python",
   "pygments_lexer": "ipython3",
   "version": "3.6.6"
  }
 },
 "nbformat": 4,
 "nbformat_minor": 2
}
